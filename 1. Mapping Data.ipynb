{
 "cells": [
  {
   "cell_type": "code",
   "execution_count": null,
   "metadata": {},
   "outputs": [],
   "source": [
    "import pandas as pd\n",
    "import numpy as np\n",
    "import matplotlib.pyplot as plt\n",
    "\n",
    "from xml.dom.minidom import parse, parseString"
   ]
  },
  {
   "cell_type": "markdown",
   "metadata": {},
   "source": [
    "# SFRA Test"
   ]
  },
  {
   "cell_type": "code",
   "execution_count": null,
   "metadata": {},
   "outputs": [],
   "source": [
    "DIR_PATH = \"data/pltu_priok_bbt/\"\n",
    "DATA = \"bc00713c-c3ba-4d93-b514-aa2400ebfb57.xml\""
   ]
  },
  {
   "cell_type": "code",
   "execution_count": null,
   "metadata": {},
   "outputs": [],
   "source": [
    "dom = parse(DIR_PATH + DATA)\n",
    "dom"
   ]
  },
  {
   "cell_type": "code",
   "execution_count": null,
   "metadata": {},
   "outputs": [],
   "source": [
    "import re\n",
    "\n",
    "def parse_string(string):\n",
    "    string = re.sub('\\d', '', string)\n",
    "    string = string.replace(\": \", \"\")\n",
    "    string = string.replace(\" \", \"_\")\n",
    "    return string"
   ]
  },
  {
   "cell_type": "code",
   "execution_count": null,
   "metadata": {},
   "outputs": [],
   "source": [
    "# ambil seluruh nama data\n",
    "fra_measurements = dom.getElementsByTagName(\"FRAMeasurement\")\n",
    "\n",
    "df = pd.DataFrame()\n",
    "for i in range(len(fra_measurements)):\n",
    "    measurement = parse_string(fra_measurements[i].getElementsByTagName(\"Name\")[0].firstChild.nodeValue)\n",
    "    data_measure = fra_measurements[i].getElementsByTagName(\"FRASweepPoint\")\n",
    "    \n",
    "    freq_l, mag_l, phase_l = [], [], []\n",
    "    for data in data_measure:\n",
    "        freq = data.getElementsByTagName(\"Frequency\")[0].firstChild.nodeValue\n",
    "        mag = data.getElementsByTagName(\"Magnitude\")[0].firstChild.nodeValue\n",
    "        phase = data.getElementsByTagName(\"Phase\")[0].firstChild.nodeValue\n",
    "        \n",
    "        freq_l.append(freq)\n",
    "        mag_l.append(mag)\n",
    "        phase_l.append(phase)\n",
    "        \n",
    "    df[str(measurement) + \"_freq\"] = pd.to_numeric(freq_l)\n",
    "    df[str(measurement) + \"_mag\"] = pd.to_numeric(mag_l)\n",
    "    df[str(measurement) + \"_phase\"] = pd.to_numeric(phase_l)"
   ]
  },
  {
   "cell_type": "code",
   "execution_count": null,
   "metadata": {},
   "outputs": [],
   "source": [
    "df.head()"
   ]
  },
  {
   "cell_type": "code",
   "execution_count": null,
   "metadata": {},
   "outputs": [],
   "source": [
    "df.describe()"
   ]
  },
  {
   "cell_type": "markdown",
   "metadata": {},
   "source": [
    "## Plotting"
   ]
  },
  {
   "cell_type": "code",
   "execution_count": null,
   "metadata": {},
   "outputs": [],
   "source": [
    "df.columns"
   ]
  },
  {
   "cell_type": "code",
   "execution_count": null,
   "metadata": {},
   "outputs": [],
   "source": [
    "df_sfra = df[df.columns[3:9]]\n",
    "df_sfra['deviasi'] = df_sfra['A_B_mag'] - df_sfra['B_C_mag']\n",
    "df_sfra['A_B_freq_log'] = np.log(df_sfra['A_B_mag'])\n",
    "df_sfra['B_C_freq_log'] = np.log(df_sfra['B_C_mag'])\n",
    "df_sfra.head()"
   ]
  },
  {
   "cell_type": "code",
   "execution_count": null,
   "metadata": {},
   "outputs": [],
   "source": [
    "plt.figure(figsize=(20,8))\n",
    "plt.plot(np.log(df[\"A_B_freq\"]), df[\"A_B_mag\"], color='red')\n",
    "plt.plot(np.log(df[\"B_C_freq\"]), df[\"B_C_mag\"], color='blue')"
   ]
  },
  {
   "cell_type": "code",
   "execution_count": null,
   "metadata": {},
   "outputs": [],
   "source": [
    "plt.figure(figsize=(20,8))\n",
    "plt.plot(np.log(df[\"A_B_freq\"]), df[\"A_B_mag\"]-df[\"B_C_mag\"], color='red')\n",
    "# plt.plot(np.log(df[\"B_C_freq\"]), df[\"B_C_phase\"], color='blue')"
   ]
  },
  {
   "cell_type": "code",
   "execution_count": null,
   "metadata": {},
   "outputs": [],
   "source": [
    "np.log(1000)"
   ]
  },
  {
   "cell_type": "markdown",
   "metadata": {},
   "source": [
    "# Winding Resistance (LV Winding)"
   ]
  },
  {
   "cell_type": "code",
   "execution_count": null,
   "metadata": {},
   "outputs": [],
   "source": [
    "DIR_PATH = \"data/pltu_priok_bbt/\"\n",
    "DATA = \"30749e27-460f-479f-8356-aa2a01043583.xml\""
   ]
  },
  {
   "cell_type": "code",
   "execution_count": null,
   "metadata": {},
   "outputs": [],
   "source": [
    "dom_wr_lv = parse(DIR_PATH + DATA)\n",
    "dom_wr_lv"
   ]
  },
  {
   "cell_type": "code",
   "execution_count": null,
   "metadata": {},
   "outputs": [],
   "source": [
    "# ambil seluruh nama data\n",
    "wr_sec_measurements = dom_wr_lv.getElementsByTagName(\"TransformerWindingResistanceMeasurement\")\n",
    "\n",
    "df_wr_lv = pd.DataFrame()\n",
    "r_value_l, r_dev_l = [], []\n",
    "s_value_l, s_dev_l = [], []\n",
    "t_value_l, t_dev_l = [], []\n",
    "\n",
    "for i in range(len(wr_sec_measurements)):\n",
    "    phasa_r = wr_sec_measurements[i].getElementsByTagName(\"PhaseAResult\")\n",
    "    phasa_s = wr_sec_measurements[i].getElementsByTagName(\"PhaseBResult\")\n",
    "    phasa_t = wr_sec_measurements[i].getElementsByTagName(\"PhaseCResult\")\n",
    "     \n",
    "    # phasa r\n",
    "    r_value = phasa_r[0].getElementsByTagName(\"ResistanceMeasured\")[0].firstChild.nodeValue\n",
    "    r_dev = phasa_r[0].getElementsByTagName(\"Deviation\")[0].firstChild.nodeValue\n",
    "    \n",
    "    # phasa s\n",
    "    s_value = phasa_s[0].getElementsByTagName(\"ResistanceMeasured\")[0].firstChild.nodeValue\n",
    "    s_dev = phasa_s[0].getElementsByTagName(\"Deviation\")[0].firstChild.nodeValue\n",
    "\n",
    "    # phasa t\n",
    "    t_value = phasa_t[0].getElementsByTagName(\"ResistanceMeasured\")[0].firstChild.nodeValue\n",
    "    t_dev = phasa_t[0].getElementsByTagName(\"Deviation\")[0].firstChild.nodeValue\n",
    "\n",
    "    r_value_l.append(r_value)\n",
    "    r_dev_l.append(r_dev)\n",
    "    s_value_l.append(s_value)\n",
    "    s_dev_l.append(s_dev)\n",
    "    t_value_l.append(t_value)\n",
    "    t_dev_l.append(t_dev)\n",
    "\n",
    "        \n",
    "df_wr_lv[\"phasa_r\"] = r_value_l\n",
    "df_wr_lv[\"dev_r\"] = r_dev_l\n",
    "df_wr_lv[\"phasa_s\"] = s_value_l\n",
    "df_wr_lv[\"dev_s\"] = s_dev_l\n",
    "df_wr_lv[\"phasa_t\"] = t_value_l\n",
    "df_wr_lv[\"dev_t\"] = t_dev_l\n",
    "\n",
    "# drop NaN\n",
    "df_wr_lv = df_wr_lv.apply (pd.to_numeric, errors='coerce')\n",
    "df_wr_lv.dropna()"
   ]
  },
  {
   "cell_type": "code",
   "execution_count": null,
   "metadata": {},
   "outputs": [],
   "source": [
    "df_wr_lv.dtypes"
   ]
  },
  {
   "cell_type": "markdown",
   "metadata": {},
   "source": [
    "# Winding Resistance HV Winding"
   ]
  },
  {
   "cell_type": "code",
   "execution_count": null,
   "metadata": {},
   "outputs": [],
   "source": [
    "DIR_PATH = \"data/pltu_priok_bbt/\"\n",
    "DATA = \"b2510b5f-1243-445d-a39e-aa2a00e47eee.xml\""
   ]
  },
  {
   "cell_type": "code",
   "execution_count": null,
   "metadata": {},
   "outputs": [],
   "source": [
    "# ambil seluruh nama data\n",
    "dom_wr_hv = parse(DIR_PATH + DATA)\n",
    "wr_prim_measurements = dom_wr_hv.getElementsByTagName(\"TransformerWindingResistanceMeasurement\")\n",
    "\n",
    "df_wr_hv = pd.DataFrame()\n",
    "tap_name_l, direction_l = [], []\n",
    "r_value_l, r_dev_l = [], []\n",
    "s_value_l, s_dev_l = [], []\n",
    "t_value_l, t_dev_l = [], []\n",
    "\n",
    "for i in range(len(wr_prim_measurements)):\n",
    "    tap_name = wr_prim_measurements[i].getElementsByTagName(\"TapName\")[0].firstChild.nodeValue\n",
    "    direction = wr_prim_measurements[i].getElementsByTagName(\"Direction\")[0].firstChild.nodeValue\n",
    "    phasa_r = wr_prim_measurements[i].getElementsByTagName(\"PhaseAResult\")\n",
    "    phasa_s = wr_prim_measurements[i].getElementsByTagName(\"PhaseBResult\")\n",
    "    phasa_t = wr_prim_measurements[i].getElementsByTagName(\"PhaseCResult\")\n",
    "    \n",
    "    # phasa r\n",
    "    r_value = phasa_r[0].getElementsByTagName(\"ResistanceMeasured\")[0].firstChild.nodeValue\n",
    "    r_dev = phasa_r[0].getElementsByTagName(\"Deviation\")[0].firstChild.nodeValue\n",
    "    \n",
    "    # phasa s\n",
    "    s_value = phasa_s[0].getElementsByTagName(\"ResistanceMeasured\")[0].firstChild.nodeValue\n",
    "    s_dev = phasa_s[0].getElementsByTagName(\"Deviation\")[0].firstChild.nodeValue\n",
    "\n",
    "    # phasa t\n",
    "    t_value = phasa_t[0].getElementsByTagName(\"ResistanceMeasured\")[0].firstChild.nodeValue\n",
    "    t_dev = phasa_t[0].getElementsByTagName(\"Deviation\")[0].firstChild.nodeValue\n",
    "    \n",
    "    tap_name_l.append(tap_name)\n",
    "    direction_l.append(direction)\n",
    "    r_value_l.append(r_value)\n",
    "    r_dev_l.append(r_dev)\n",
    "    s_value_l.append(s_value)\n",
    "    s_dev_l.append(s_dev)\n",
    "    t_value_l.append(t_value)\n",
    "    t_dev_l.append(t_dev)\n",
    "\n",
    "df_wr_hv[\"tap_name\"] = tap_name_l\n",
    "df_wr_hv[\"direction\"] = direction_l\n",
    "df_wr_hv[\"phasa_r\"] = r_value_l\n",
    "df_wr_hv[\"dev_r\"] = r_dev_l\n",
    "df_wr_hv[\"phasa_s\"] = s_value_l\n",
    "df_wr_hv[\"dev_s\"] = s_dev_l\n",
    "df_wr_hv[\"phasa_t\"] = t_value_l\n",
    "df_wr_hv[\"dev_t\"] = t_dev_l"
   ]
  },
  {
   "cell_type": "code",
   "execution_count": null,
   "metadata": {},
   "outputs": [],
   "source": [
    "df_wr_hv"
   ]
  },
  {
   "cell_type": "code",
   "execution_count": null,
   "metadata": {},
   "outputs": [],
   "source": []
  }
 ],
 "metadata": {
  "kernelspec": {
   "display_name": "Python 3",
   "language": "python",
   "name": "python3"
  },
  "language_info": {
   "codemirror_mode": {
    "name": "ipython",
    "version": 3
   },
   "file_extension": ".py",
   "mimetype": "text/x-python",
   "name": "python",
   "nbconvert_exporter": "python",
   "pygments_lexer": "ipython3",
   "version": "3.7.3"
  }
 },
 "nbformat": 4,
 "nbformat_minor": 2
}
